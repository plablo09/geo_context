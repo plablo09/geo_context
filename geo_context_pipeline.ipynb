{
 "cells": [
  {
   "cell_type": "markdown",
   "metadata": {},
   "source": [
    "## Flujo de trabajo para utilizar el Contexto Geográfico como entrada para clasificar el sentimiento en tuits.\n"
   ]
  },
  {
   "cell_type": "markdown",
   "metadata": {},
   "source": [
    "Imports generales"
   ]
  },
  {
   "cell_type": "code",
   "execution_count": 1,
   "metadata": {
    "collapsed": false,
    "scrolled": true
   },
   "outputs": [],
   "source": [
    "import numpy as np\n",
    "import pandas as pd\n",
    "from sklearn import preprocessing\n",
    "from sklearn.cross_validation import train_test_split\n",
    "from helpers.models import fit_model\n",
    "from helpers.helpers import make_binary, class_info\n",
    "# set random state for camparability\n",
    "random_state = np.random.RandomState(0)"
   ]
  },
  {
   "cell_type": "markdown",
   "metadata": {},
   "source": [
    "### Preprocesamiento\n",
    "\n",
    "Leer los datos y seleccionar las variables del estudio.\n",
    "También recodificamos la variable \"intervalo\" como numérica "
   ]
  },
  {
   "cell_type": "code",
   "execution_count": 2,
   "metadata": {
    "collapsed": false
   },
   "outputs": [],
   "source": [
    "# read data\n",
    "context = pd.read_csv('data/muestra_variables.csv')\n",
    "# select variable columns\n",
    "cols_select = context.columns[6:]\n",
    "variables = context.ix[:,cols_select]\n",
    "for c in ['no_se','uname','content','cve_mza']:\n",
    "    del variables[c]\n",
    "\n",
    "# reclass intervalo as numerical\n",
    "def intervalo_to_numbers(x):\n",
    "    equiv = {'sun':0,'mon':1,'tue':2,'wed':3,'thu':4,'fri':5,'sat':6,'sun':7}\n",
    "    interval = 0.16666*int(x.split('.')[1])\n",
    "    day = x.split('.')[0]\n",
    "    valor = equiv[day] + interval\n",
    "    return valor\n",
    "\n",
    "reclass = variables['intervalo'].apply(intervalo_to_numbers)\n",
    "\n",
    "# drop old 'intervalo' column and replace it with numerical values\n",
    "del variables['intervalo']\n",
    "variables = variables.join(reclass,how='inner')\n"
   ]
  },
  {
   "cell_type": "markdown",
   "metadata": {},
   "source": [
    "Obtener los datos como np.array y separar los datos en predictor (X) y objetivo (Y)"
   ]
  },
  {
   "cell_type": "code",
   "execution_count": 19,
   "metadata": {
    "collapsed": false
   },
   "outputs": [
    {
     "name": "stdout",
     "output_type": "stream",
     "text": [
      "Initial label distribution\n",
      "   1.0:    7353  =   66.9%\n",
      "   2.0:    1120  =   10.2%\n",
      "   3.0:    1762  =   16.0%\n",
      "   4.0:     758  =    6.9%\n"
     ]
    }
   ],
   "source": [
    "data = variables.as_matrix()\n",
    "data_Y = data[:,0]\n",
    "data_X = data[:,1:]\n",
    "print(\"Initial label distribution\")\n",
    "class_info(data_Y)"
   ]
  },
  {
   "cell_type": "markdown",
   "metadata": {},
   "source": [
    "Eliminar los datos con etiqueta 4 (no sé que sean)"
   ]
  },
  {
   "cell_type": "code",
   "execution_count": 20,
   "metadata": {
    "collapsed": true
   },
   "outputs": [],
   "source": [
    "data_X, data_Y = data_X[data_Y != 4], data_Y[data_Y != 4]"
   ]
  },
  {
   "cell_type": "markdown",
   "metadata": {},
   "source": [
    "Hacemos dos binarizaciones de los datos, en una agregamos las clases Pos y Neu (etiquetas 1 y 2) y en la otra agregamos Neg Y Neu (etiquetas 3 y 2).\n",
    "\n",
    "En el caso de la primera, el problema se convierte en _encontrar todos los tuit no-positivos_. Mientras que en la segunda, el problema es _encontrar todos los no-negativos_. Entonces, la etiqueta positiva en el primer caso son los no-negativos, mientras que en el segundo caso son los no-positivos."
   ]
  },
  {
   "cell_type": "code",
   "execution_count": 21,
   "metadata": {
    "collapsed": false
   },
   "outputs": [
    {
     "name": "stdout",
     "output_type": "stream",
     "text": [
      "Label distribution after binarization\n",
      "Pos + Neu\n",
      "     0:    1762  =   17.2%\n",
      "     1:    8473  =   82.8%\n",
      "\n",
      "Neg + Neu\n",
      "     0:    7353  =   71.8%\n",
      "     1:    2882  =   28.2%\n"
     ]
    }
   ],
   "source": [
    "Y_pos_neu = make_binary(data_Y, set((1.,2.)))\n",
    "Y_neg_neu = make_binary(data_Y, set((3.,2.)))\n",
    "print(\"Label distribution after binarization\")\n",
    "print(\"Pos + Neu\")\n",
    "class_info(Y_pos_neu)\n",
    "print()\n",
    "print(\"Neg + Neu\")\n",
    "class_info(Y_neg_neu)"
   ]
  },
  {
   "cell_type": "markdown",
   "metadata": {},
   "source": [
    "Separamos en muestras de prueba (40%) y entrenamiento para ambas binarizaciones.\n",
    "\n",
    "Más adelante podemos utilizar una estrategia de folds e iterar sobre ellos"
   ]
  },
  {
   "cell_type": "code",
   "execution_count": 22,
   "metadata": {
    "collapsed": true
   },
   "outputs": [],
   "source": [
    "\n",
    "(X_train_pos_neu, X_test_pos_neu, \n",
    "Y_train_pos_neu, Y_test_pos_neu) = train_test_split(data_X, Y_pos_neu,\n",
    "                                                    test_size=0.4,\n",
    "                                                    random_state=random_state)\n",
    "\n",
    "(X_train_neg_neu, X_test_neg_neu, \n",
    "Y_train_neg_neu, Y_test_neg_neu) = train_test_split(data_X, Y_neg_neu,\n",
    "                                                    test_size=0.4,\n",
    "                                                    random_state=random_state)\n"
   ]
  },
  {
   "cell_type": "markdown",
   "metadata": {},
   "source": [
    "Reescalamos las muestras de entrenamiento"
   ]
  },
  {
   "cell_type": "code",
   "execution_count": 23,
   "metadata": {
    "collapsed": true
   },
   "outputs": [],
   "source": [
    "X_pos_neu_s = preprocessing.scale(X_train_pos_neu)\n",
    "X_neg_neu_s = preprocessing.scale(X_train_neg_neu)"
   ]
  },
  {
   "cell_type": "markdown",
   "metadata": {},
   "source": [
    "### Entrenamiento con las muestras sin balancear.\n",
    "\n",
    "Primero vamos a entrenar SVMs con diferentes métricas utilizando las muestras originales, sin balancear.\n",
    "El primer paso es definir el espacio de parámetros de búsqueda `param_grid` y las métricas a evaluar:"
   ]
  },
  {
   "cell_type": "code",
   "execution_count": 8,
   "metadata": {
    "collapsed": true
   },
   "outputs": [],
   "source": [
    "param_grid = {'C': [1, 10, 100, 1000], 'gamma': [0.01,0.001, 0.0001],\n",
    "              'kernel': ['rbf']}\n",
    "metrics = ['f1','accuracy','average_precision','roc_auc','recall']"
   ]
  },
  {
   "cell_type": "markdown",
   "metadata": {},
   "source": [
    "Ahora sí, ajustamos las SVM con diferentes métricas, primero para la binarización Pos + Neu:"
   ]
  },
  {
   "cell_type": "code",
   "execution_count": 9,
   "metadata": {
    "collapsed": false
   },
   "outputs": [
    {
     "name": "stdout",
     "output_type": "stream",
     "text": [
      "Using metric average_precision\n",
      "Best parameters set found on development set:\n",
      "\n",
      "{'C': 10, 'kernel': 'rbf', 'gamma': 0.001}\n",
      "Grid scores on development set:\n",
      "\n",
      "0.843 (+/-0.011) for {'C': 1, 'kernel': 'rbf', 'gamma': 0.01}\n",
      "0.860 (+/-0.020) for {'C': 1, 'kernel': 'rbf', 'gamma': 0.001}\n",
      "0.860 (+/-0.016) for {'C': 1, 'kernel': 'rbf', 'gamma': 0.0001}\n",
      "0.843 (+/-0.021) for {'C': 10, 'kernel': 'rbf', 'gamma': 0.01}\n",
      "0.862 (+/-0.019) for {'C': 10, 'kernel': 'rbf', 'gamma': 0.001}\n",
      "0.862 (+/-0.020) for {'C': 10, 'kernel': 'rbf', 'gamma': 0.0001}\n",
      "0.840 (+/-0.024) for {'C': 100, 'kernel': 'rbf', 'gamma': 0.01}\n",
      "0.858 (+/-0.020) for {'C': 100, 'kernel': 'rbf', 'gamma': 0.001}\n",
      "0.862 (+/-0.018) for {'C': 100, 'kernel': 'rbf', 'gamma': 0.0001}\n",
      "0.844 (+/-0.018) for {'C': 1000, 'kernel': 'rbf', 'gamma': 0.01}\n",
      "0.858 (+/-0.017) for {'C': 1000, 'kernel': 'rbf', 'gamma': 0.001}\n",
      "0.860 (+/-0.013) for {'C': 1000, 'kernel': 'rbf', 'gamma': 0.0001}\n",
      "\n",
      "Using metric f1\n",
      "Best parameters set found on development set:\n",
      "\n",
      "{'C': 1, 'kernel': 'rbf', 'gamma': 0.01}\n",
      "Grid scores on development set:\n",
      "\n",
      "0.909 (+/-0.000) for {'C': 1, 'kernel': 'rbf', 'gamma': 0.01}\n",
      "0.909 (+/-0.000) for {'C': 1, 'kernel': 'rbf', 'gamma': 0.001}\n",
      "0.909 (+/-0.000) for {'C': 1, 'kernel': 'rbf', 'gamma': 0.0001}\n",
      "0.901 (+/-0.005) for {'C': 10, 'kernel': 'rbf', 'gamma': 0.01}\n",
      "0.908 (+/-0.001) for {'C': 10, 'kernel': 'rbf', 'gamma': 0.001}\n",
      "0.909 (+/-0.001) for {'C': 10, 'kernel': 'rbf', 'gamma': 0.0001}\n",
      "0.866 (+/-0.008) for {'C': 100, 'kernel': 'rbf', 'gamma': 0.01}\n",
      "0.905 (+/-0.005) for {'C': 100, 'kernel': 'rbf', 'gamma': 0.001}\n",
      "0.909 (+/-0.001) for {'C': 100, 'kernel': 'rbf', 'gamma': 0.0001}\n",
      "0.841 (+/-0.015) for {'C': 1000, 'kernel': 'rbf', 'gamma': 0.01}\n",
      "0.885 (+/-0.012) for {'C': 1000, 'kernel': 'rbf', 'gamma': 0.001}\n",
      "0.907 (+/-0.003) for {'C': 1000, 'kernel': 'rbf', 'gamma': 0.0001}\n",
      "\n",
      "Using metric recall\n",
      "Best parameters set found on development set:\n",
      "\n",
      "{'C': 1, 'kernel': 'rbf', 'gamma': 0.01}\n",
      "Grid scores on development set:\n",
      "\n",
      "1.000 (+/-0.000) for {'C': 1, 'kernel': 'rbf', 'gamma': 0.01}\n",
      "1.000 (+/-0.000) for {'C': 1, 'kernel': 'rbf', 'gamma': 0.001}\n",
      "1.000 (+/-0.000) for {'C': 1, 'kernel': 'rbf', 'gamma': 0.0001}\n",
      "0.981 (+/-0.011) for {'C': 10, 'kernel': 'rbf', 'gamma': 0.01}\n",
      "0.999 (+/-0.002) for {'C': 10, 'kernel': 'rbf', 'gamma': 0.001}\n",
      "1.000 (+/-0.001) for {'C': 10, 'kernel': 'rbf', 'gamma': 0.0001}\n",
      "0.898 (+/-0.019) for {'C': 100, 'kernel': 'rbf', 'gamma': 0.01}\n",
      "0.989 (+/-0.011) for {'C': 100, 'kernel': 'rbf', 'gamma': 0.001}\n",
      "0.999 (+/-0.003) for {'C': 100, 'kernel': 'rbf', 'gamma': 0.0001}\n",
      "0.843 (+/-0.029) for {'C': 1000, 'kernel': 'rbf', 'gamma': 0.01}\n",
      "0.946 (+/-0.020) for {'C': 1000, 'kernel': 'rbf', 'gamma': 0.001}\n",
      "0.995 (+/-0.006) for {'C': 1000, 'kernel': 'rbf', 'gamma': 0.0001}\n",
      "\n",
      "Using metric roc_auc\n",
      "Best parameters set found on development set:\n",
      "\n",
      "{'C': 100, 'kernel': 'rbf', 'gamma': 0.0001}\n",
      "Grid scores on development set:\n",
      "\n",
      "0.496 (+/-0.022) for {'C': 1, 'kernel': 'rbf', 'gamma': 0.01}\n",
      "0.538 (+/-0.035) for {'C': 1, 'kernel': 'rbf', 'gamma': 0.001}\n",
      "0.541 (+/-0.027) for {'C': 1, 'kernel': 'rbf', 'gamma': 0.0001}\n",
      "0.503 (+/-0.037) for {'C': 10, 'kernel': 'rbf', 'gamma': 0.01}\n",
      "0.541 (+/-0.031) for {'C': 10, 'kernel': 'rbf', 'gamma': 0.001}\n",
      "0.547 (+/-0.050) for {'C': 10, 'kernel': 'rbf', 'gamma': 0.0001}\n",
      "0.510 (+/-0.032) for {'C': 100, 'kernel': 'rbf', 'gamma': 0.01}\n",
      "0.532 (+/-0.037) for {'C': 100, 'kernel': 'rbf', 'gamma': 0.001}\n",
      "0.549 (+/-0.039) for {'C': 100, 'kernel': 'rbf', 'gamma': 0.0001}\n",
      "0.519 (+/-0.022) for {'C': 1000, 'kernel': 'rbf', 'gamma': 0.01}\n",
      "0.534 (+/-0.042) for {'C': 1000, 'kernel': 'rbf', 'gamma': 0.001}\n",
      "0.542 (+/-0.025) for {'C': 1000, 'kernel': 'rbf', 'gamma': 0.0001}\n",
      "\n",
      "Using metric accuracy\n",
      "Best parameters set found on development set:\n",
      "\n",
      "{'C': 1, 'kernel': 'rbf', 'gamma': 0.01}\n",
      "Grid scores on development set:\n",
      "\n",
      "0.833 (+/-0.001) for {'C': 1, 'kernel': 'rbf', 'gamma': 0.01}\n",
      "0.833 (+/-0.001) for {'C': 1, 'kernel': 'rbf', 'gamma': 0.001}\n",
      "0.833 (+/-0.001) for {'C': 1, 'kernel': 'rbf', 'gamma': 0.0001}\n",
      "0.821 (+/-0.009) for {'C': 10, 'kernel': 'rbf', 'gamma': 0.01}\n",
      "0.832 (+/-0.002) for {'C': 10, 'kernel': 'rbf', 'gamma': 0.001}\n",
      "0.833 (+/-0.001) for {'C': 10, 'kernel': 'rbf', 'gamma': 0.0001}\n",
      "0.768 (+/-0.012) for {'C': 100, 'kernel': 'rbf', 'gamma': 0.01}\n",
      "0.827 (+/-0.008) for {'C': 100, 'kernel': 'rbf', 'gamma': 0.001}\n",
      "0.833 (+/-0.002) for {'C': 100, 'kernel': 'rbf', 'gamma': 0.0001}\n",
      "0.734 (+/-0.022) for {'C': 1000, 'kernel': 'rbf', 'gamma': 0.01}\n",
      "0.796 (+/-0.020) for {'C': 1000, 'kernel': 'rbf', 'gamma': 0.001}\n",
      "0.831 (+/-0.005) for {'C': 1000, 'kernel': 'rbf', 'gamma': 0.0001}\n",
      "\n"
     ]
    }
   ],
   "source": [
    "fitted_models_pos_neu = {}\n",
    "for metric in metrics:\n",
    "    fitted_models_pos_neu[metric] = fit_model(X_pos_neu_s,Y_train_pos_neu,\n",
    "                                                param_grid,metric,6)\n",
    "\n",
    "for metric, model in fitted_models_pos_neu.items():\n",
    "    print (\"Using metric {}\".format(metric))\n",
    "    print(\"Best parameters set found on development set:\")\n",
    "    print()\n",
    "    print(model.best_params_)\n",
    "    print(\"Grid scores on development set:\")\n",
    "    print()\n",
    "    for params, mean_score, scores in model.grid_scores_:\n",
    "        print(\"%0.3f (+/-%0.03f) for %r\"\n",
    "              % (mean_score, scores.std() * 2, params))\n",
    "\n",
    "    print()\n"
   ]
  },
  {
   "cell_type": "markdown",
   "metadata": {},
   "source": [
    "Ahora lo mismo pero con la otra binarización, para hacer los dos casos comparables vamos a _voltear_ las etiquetas de las clases:"
   ]
  },
  {
   "cell_type": "code",
   "execution_count": 24,
   "metadata": {
    "collapsed": false
   },
   "outputs": [
    {
     "name": "stdout",
     "output_type": "stream",
     "text": [
      "Using metric average_precision\n",
      "Best parameters set found on development set:\n",
      "\n",
      "{'C': 1000, 'kernel': 'rbf', 'gamma': 0.01}\n",
      "Grid scores on development set:\n",
      "\n",
      "0.717 (+/-0.028) for {'C': 1, 'kernel': 'rbf', 'gamma': 0.01}\n",
      "0.731 (+/-0.021) for {'C': 1, 'kernel': 'rbf', 'gamma': 0.001}\n",
      "0.734 (+/-0.023) for {'C': 1, 'kernel': 'rbf', 'gamma': 0.0001}\n",
      "0.723 (+/-0.023) for {'C': 10, 'kernel': 'rbf', 'gamma': 0.01}\n",
      "0.727 (+/-0.018) for {'C': 10, 'kernel': 'rbf', 'gamma': 0.001}\n",
      "0.740 (+/-0.027) for {'C': 10, 'kernel': 'rbf', 'gamma': 0.0001}\n",
      "0.737 (+/-0.020) for {'C': 100, 'kernel': 'rbf', 'gamma': 0.01}\n",
      "0.727 (+/-0.011) for {'C': 100, 'kernel': 'rbf', 'gamma': 0.001}\n",
      "0.736 (+/-0.020) for {'C': 100, 'kernel': 'rbf', 'gamma': 0.0001}\n",
      "0.742 (+/-0.010) for {'C': 1000, 'kernel': 'rbf', 'gamma': 0.01}\n",
      "0.736 (+/-0.023) for {'C': 1000, 'kernel': 'rbf', 'gamma': 0.001}\n",
      "0.733 (+/-0.021) for {'C': 1000, 'kernel': 'rbf', 'gamma': 0.0001}\n",
      "\n",
      "Using metric f1\n",
      "Best parameters set found on development set:\n",
      "\n",
      "{'C': 1, 'kernel': 'rbf', 'gamma': 0.001}\n",
      "Grid scores on development set:\n",
      "\n",
      "0.833 (+/-0.002) for {'C': 1, 'kernel': 'rbf', 'gamma': 0.01}\n",
      "0.834 (+/-0.001) for {'C': 1, 'kernel': 'rbf', 'gamma': 0.001}\n",
      "0.834 (+/-0.000) for {'C': 1, 'kernel': 'rbf', 'gamma': 0.0001}\n",
      "0.810 (+/-0.010) for {'C': 10, 'kernel': 'rbf', 'gamma': 0.01}\n",
      "0.832 (+/-0.001) for {'C': 10, 'kernel': 'rbf', 'gamma': 0.001}\n",
      "0.834 (+/-0.001) for {'C': 10, 'kernel': 'rbf', 'gamma': 0.0001}\n",
      "0.750 (+/-0.014) for {'C': 100, 'kernel': 'rbf', 'gamma': 0.01}\n",
      "0.823 (+/-0.010) for {'C': 100, 'kernel': 'rbf', 'gamma': 0.001}\n",
      "0.832 (+/-0.003) for {'C': 100, 'kernel': 'rbf', 'gamma': 0.0001}\n",
      "0.733 (+/-0.018) for {'C': 1000, 'kernel': 'rbf', 'gamma': 0.01}\n",
      "0.791 (+/-0.012) for {'C': 1000, 'kernel': 'rbf', 'gamma': 0.001}\n",
      "0.829 (+/-0.004) for {'C': 1000, 'kernel': 'rbf', 'gamma': 0.0001}\n",
      "\n",
      "Using metric recall\n",
      "Best parameters set found on development set:\n",
      "\n",
      "{'C': 1, 'kernel': 'rbf', 'gamma': 0.001}\n",
      "Grid scores on development set:\n",
      "\n",
      "0.998 (+/-0.003) for {'C': 1, 'kernel': 'rbf', 'gamma': 0.01}\n",
      "1.000 (+/-0.000) for {'C': 1, 'kernel': 'rbf', 'gamma': 0.001}\n",
      "1.000 (+/-0.000) for {'C': 1, 'kernel': 'rbf', 'gamma': 0.0001}\n",
      "0.933 (+/-0.022) for {'C': 10, 'kernel': 'rbf', 'gamma': 0.01}\n",
      "0.994 (+/-0.003) for {'C': 10, 'kernel': 'rbf', 'gamma': 0.001}\n",
      "0.999 (+/-0.001) for {'C': 10, 'kernel': 'rbf', 'gamma': 0.0001}\n",
      "0.783 (+/-0.021) for {'C': 100, 'kernel': 'rbf', 'gamma': 0.01}\n",
      "0.970 (+/-0.019) for {'C': 100, 'kernel': 'rbf', 'gamma': 0.001}\n",
      "0.995 (+/-0.006) for {'C': 100, 'kernel': 'rbf', 'gamma': 0.0001}\n",
      "0.741 (+/-0.028) for {'C': 1000, 'kernel': 'rbf', 'gamma': 0.01}\n",
      "0.887 (+/-0.026) for {'C': 1000, 'kernel': 'rbf', 'gamma': 0.001}\n",
      "0.986 (+/-0.005) for {'C': 1000, 'kernel': 'rbf', 'gamma': 0.0001}\n",
      "\n",
      "Using metric roc_auc\n",
      "Best parameters set found on development set:\n",
      "\n",
      "{'C': 1000, 'kernel': 'rbf', 'gamma': 0.01}\n",
      "Grid scores on development set:\n",
      "\n",
      "0.493 (+/-0.035) for {'C': 1, 'kernel': 'rbf', 'gamma': 0.01}\n",
      "0.502 (+/-0.027) for {'C': 1, 'kernel': 'rbf', 'gamma': 0.001}\n",
      "0.510 (+/-0.025) for {'C': 1, 'kernel': 'rbf', 'gamma': 0.0001}\n",
      "0.508 (+/-0.031) for {'C': 10, 'kernel': 'rbf', 'gamma': 0.01}\n",
      "0.501 (+/-0.022) for {'C': 10, 'kernel': 'rbf', 'gamma': 0.001}\n",
      "0.515 (+/-0.030) for {'C': 10, 'kernel': 'rbf', 'gamma': 0.0001}\n",
      "0.531 (+/-0.034) for {'C': 100, 'kernel': 'rbf', 'gamma': 0.01}\n",
      "0.503 (+/-0.008) for {'C': 100, 'kernel': 'rbf', 'gamma': 0.001}\n",
      "0.507 (+/-0.019) for {'C': 100, 'kernel': 'rbf', 'gamma': 0.0001}\n",
      "0.536 (+/-0.031) for {'C': 1000, 'kernel': 'rbf', 'gamma': 0.01}\n",
      "0.518 (+/-0.026) for {'C': 1000, 'kernel': 'rbf', 'gamma': 0.001}\n",
      "0.509 (+/-0.013) for {'C': 1000, 'kernel': 'rbf', 'gamma': 0.0001}\n",
      "\n",
      "Using metric accuracy\n",
      "Best parameters set found on development set:\n",
      "\n",
      "{'C': 1, 'kernel': 'rbf', 'gamma': 0.001}\n",
      "Grid scores on development set:\n",
      "\n",
      "0.714 (+/-0.003) for {'C': 1, 'kernel': 'rbf', 'gamma': 0.01}\n",
      "0.716 (+/-0.001) for {'C': 1, 'kernel': 'rbf', 'gamma': 0.001}\n",
      "0.715 (+/-0.001) for {'C': 1, 'kernel': 'rbf', 'gamma': 0.0001}\n",
      "0.687 (+/-0.014) for {'C': 10, 'kernel': 'rbf', 'gamma': 0.01}\n",
      "0.713 (+/-0.001) for {'C': 10, 'kernel': 'rbf', 'gamma': 0.001}\n",
      "0.715 (+/-0.001) for {'C': 10, 'kernel': 'rbf', 'gamma': 0.0001}\n",
      "0.627 (+/-0.020) for {'C': 100, 'kernel': 'rbf', 'gamma': 0.01}\n",
      "0.702 (+/-0.015) for {'C': 100, 'kernel': 'rbf', 'gamma': 0.001}\n",
      "0.713 (+/-0.005) for {'C': 100, 'kernel': 'rbf', 'gamma': 0.0001}\n",
      "0.615 (+/-0.022) for {'C': 1000, 'kernel': 'rbf', 'gamma': 0.01}\n",
      "0.664 (+/-0.016) for {'C': 1000, 'kernel': 'rbf', 'gamma': 0.001}\n",
      "0.709 (+/-0.006) for {'C': 1000, 'kernel': 'rbf', 'gamma': 0.0001}\n",
      "\n"
     ]
    }
   ],
   "source": [
    "Y_train_neg_neu = np.array([1 if val == 0 else 0 for val in Y_train_neg_neu])\n",
    "fitted_models_neg_neu = {}\n",
    "for metric in metrics:\n",
    "    fitted_models_neg_neu[metric] = fit_model(X_neg_neu_s,Y_train_neg_neu,\n",
    "                                                param_grid,metric,6)\n",
    "\n",
    "for metric, model in fitted_models_neg_neu.items():\n",
    "    print (\"Using metric {}\".format(metric))\n",
    "    print(\"Best parameters set found on development set:\")\n",
    "    print()\n",
    "    print(model.best_params_)\n",
    "    print(\"Grid scores on development set:\")\n",
    "    print()\n",
    "    for params, mean_score, scores in model.grid_scores_:\n",
    "        print(\"%0.3f (+/-%0.03f) for %r\"\n",
    "              % (mean_score, scores.std() * 2, params))\n",
    "\n",
    "    print()"
   ]
  },
  {
   "cell_type": "markdown",
   "metadata": {},
   "source": []
  }
 ],
 "metadata": {
  "kernelspec": {
   "display_name": "Python 3",
   "language": "python",
   "name": "python3"
  },
  "language_info": {
   "codemirror_mode": {
    "name": "ipython",
    "version": 3
   },
   "file_extension": ".py",
   "mimetype": "text/x-python",
   "name": "python",
   "nbconvert_exporter": "python",
   "pygments_lexer": "ipython3",
   "version": "3.5.2"
  }
 },
 "nbformat": 4,
 "nbformat_minor": 0
}
